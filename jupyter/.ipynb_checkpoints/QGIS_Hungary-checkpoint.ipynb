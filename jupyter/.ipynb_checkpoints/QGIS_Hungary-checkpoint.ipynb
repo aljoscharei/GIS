{
 "cells": [
  {
   "cell_type": "markdown",
   "id": "5a2aee96-4f91-45ce-bb18-2b09b6d47cba",
   "metadata": {},
   "source": [
    "## The Program"
   ]
  },
  {
   "cell_type": "code",
   "execution_count": null,
   "id": "3add6c5e-9e0e-4507-8846-c3ef1ce4fa67",
   "metadata": {},
   "outputs": [],
   "source": [
    "import pandas as pd\n",
    "import sys\n",
    "import numpy as np\n",
    "sys.path.append('/opt/homebrew/lib/python3.10/site-packages')\n",
    "sys.path.append('/opt/homebrew/lib/python3.11/site-packages')\n",
    "import shapely\n",
    "import geopandas as gpd\n",
    "import basemap\n",
    "import math\n",
    "import json\n",
    "%matplotlib inline"
   ]
  },
  {
   "cell_type": "code",
   "execution_count": null,
   "id": "a924eaa6-47e8-4745-ae48-77300ef518d2",
   "metadata": {},
   "outputs": [],
   "source": [
    "pd.set_option('display.max_columns', 50)"
   ]
  },
  {
   "cell_type": "code",
   "execution_count": null,
   "id": "c78a002e-80f5-42f0-952e-04330c4c7193",
   "metadata": {},
   "outputs": [],
   "source": [
    "pd.set_option('display.max_rows', 2000)"
   ]
  },
  {
   "cell_type": "code",
   "execution_count": null,
   "id": "21f8c962-f8a5-4511-9360-e0c270b666a1",
   "metadata": {},
   "outputs": [],
   "source": [
    "hexgrid30km = gpd.read_file(\"/Users/aljoschabeyer/Library/Mobile Documents/iCloud~md~obsidian/Documents/RPG/000 media/Maps/QGIS/30KMHungaryClip.shp\")"
   ]
  },
  {
   "cell_type": "code",
   "execution_count": null,
   "id": "ea461b9c",
   "metadata": {},
   "outputs": [],
   "source": [
    "hexgrid30km.head()"
   ]
  },
  {
   "cell_type": "code",
   "execution_count": null,
   "id": "bb817ae6-431d-4cff-b4d7-c198dfbc1cce",
   "metadata": {
    "scrolled": true
   },
   "outputs": [],
   "source": [
    "hexgrid30km['COORDIDX'] = [''] * hexgrid30km.shape[0]\n",
    "for index3, feature3 in  hexgrid30km.iterrows():\n",
    "    hexgrid30km.loc[index3,'COORDIDX'] = str(feature3['COORDX']) + '.' + str(feature3['COORDY'])"
   ]
  },
  {
   "cell_type": "code",
   "execution_count": null,
   "id": "9b25555d-1fa2-492d-aa02-589aeb0763a0",
   "metadata": {},
   "outputs": [],
   "source": [
    "hexgrid30km.set_index('COORDIDX', drop=False, inplace=True) #drop=False means that the COORDIDX collumn is not deleted\n",
    "hexgrid30km.index.names = ['IDX']"
   ]
  },
  {
   "cell_type": "code",
   "execution_count": null,
   "id": "681cc9fd-8a5a-48ce-be2f-f908434bc81c",
   "metadata": {},
   "outputs": [],
   "source": [
    "hexgrid30km['COORDIDX'] = hexgrid30km['COORDIDX'].apply(lambda x: str(x)) # just to make sure that index is str"
   ]
  },
  {
   "cell_type": "code",
   "execution_count": null,
   "id": "a64a97de-b3a9-4b26-a0cd-f9129f40f6f2",
   "metadata": {},
   "outputs": [],
   "source": [
    "with open(\"/Users/aljoschabeyer/Library/Mobile Documents/iCloud~md~obsidian/Documents/RPG/000 media/Maps/QGIS/JSON/hexgrid30km.json\", \"r\") as openfile:\n",
    "    nested_dict = json.load(openfile)\n",
    "\n",
    "# custom type / model i don't know what the correct name is:\n",
    "# the goal is that the rest of the code can stay the same\n",
    "\n",
    "class hexgrid30km(object):\n",
    "        def __init__(self, nested_dict):\n",
    "            self.settl = {}\n",
    "            self.infra = nested_dict['infra']\n",
    "            self.elev = nested_dict['elev']\n",
    "            self.x = nested_dict['x']\n",
    "            self.y = nested_dict['y']\n",
    "            self.update = nested_dict['update']\n",
    "            \n",
    "            self.centroid = nested_dict['centroid']\n",
    "            self.Hex_Group = nested_dict['Hex_Group']\n",
    "            self.Edge_Hexes = nested_dict['Edge_Hexes']\n",
    "            self.Hex_Type = nested_dict['Hex_Type']\n",
    "            \n",
    "            #self.done_Hexes = done_Hexes\n",
    "\n",
    "hexgrid30kmJSON = hexgrid30km(nested_dict)"
   ]
  },
  {
   "cell_type": "code",
   "execution_count": null,
   "id": "bc37aab0-169d-485c-9cf4-2be9f42b998c",
   "metadata": {},
   "outputs": [],
   "source": [
    "settls = gpd.read_file('/Users/aljoschabeyer/Library/Mobile Documents/iCloud~md~obsidian/Documents/RPG/000 media/Maps/QGIS/CityHungaryEPSG3857.shp')"
   ]
  },
  {
   "cell_type": "code",
   "execution_count": null,
   "id": "2c5fe069-57eb-4a8b-bac7-9ab325cf04cd",
   "metadata": {},
   "outputs": [],
   "source": [
    "area = 301"
   ]
  },
  {
   "cell_type": "code",
   "execution_count": null,
   "id": "c32f39ff-aedd-45a6-9782-2a8311356072",
   "metadata": {},
   "outputs": [],
   "source": [
    "hexgrid30km.crs == settls.crs"
   ]
  },
  {
   "cell_type": "code",
   "execution_count": null,
   "id": "27e4a357-2101-4f87-90d9-5b9ccbda1534",
   "metadata": {},
   "outputs": [],
   "source": [
    "def add_settlement_to_hex(hexgrid30km,settls):\n",
    "    hexgrid30km['OriginalInfra'] = [0] * hexgrid30km.shape[0]\n",
    "    area = 301\n",
    "    Match_Settlements_Ids = []\n",
    "    for index1, feature1 in  hexgrid30km.iterrows():\n",
    "        Match_Settlements_Ids = []\n",
    "        pop_in_cell = []\n",
    "        for index2, feature2 in  settls.iterrows():\n",
    "            if feature1['geometry'].contains(feature2['geometry']):\n",
    "                MatchGridCOORDIDX = feature1['COORDIDX']\n",
    "                Match_Settlements_Ids.append(str(index2))\n",
    "                pop_in_cell.append(int(feature2['POP1200']))\n",
    "                # print('match' )\n",
    "        if Match_Settlements_Ids: #truth value testing of python list. \n",
    "            list_of_strings = []\n",
    "            for number in Match_Settlements_Ids:\n",
    "                list_of_strings.append(str(number))\n",
    "                #print(round(sum(pop_in_cell)/300))\n",
    "                # once to JSON ...\n",
    "                hexgrid30kmJSON.settl[MatchGridCOORDIDX] = ' '.join(list_of_strings) \n",
    "                hexgrid30kmJSON.infra[MatchGridCOORDIDX] = round((sum(pop_in_cell))/area)\n",
    "                # ... and one to dataframe\n",
    "                filt = hexgrid30km['COORDIDX'] == MatchGridCOORDIDX\n",
    "                hexgrid30km.loc[filt,'settl'] = ' '.join(list_of_strings) # with COORDIDX as index, filtering is no longer necessary\n",
    "                #print('infra before update',hexgrid30km.loc[filt,'Infra'])\n",
    "                # hexgrid30km.loc[filt,'Infra'] = round((sum(pop_in_cell))/area) commented out because otherwise double\n",
    "                hexgrid30km.loc[filt,'OriginalInfra'] = round((sum(pop_in_cell))/area)\n",
    "                #print('infra after update',hexgrid30km.loc[filt,'Infra'])\n",
    "    return hexgrid30km\n",
    "                "
   ]
  },
  {
   "cell_type": "code",
   "execution_count": null,
   "id": "dbdc2881-a9c2-4996-b0cd-2a5adc8065fd",
   "metadata": {},
   "outputs": [],
   "source": [
    "#hexgrid30km.drop('COORDIDX', axis = 1, inplace = True)"
   ]
  },
  {
   "cell_type": "code",
   "execution_count": null,
   "id": "d194d161-2051-4448-9fd9-954f2a8edb03",
   "metadata": {},
   "outputs": [],
   "source": [
    "test = [123.432, 2532.234, 2345.322]"
   ]
  },
  {
   "cell_type": "code",
   "execution_count": null,
   "id": "9b91b8f7-d5b9-4b32-817c-3731579a50ef",
   "metadata": {},
   "outputs": [],
   "source": [
    "result = [str(x) for x in test]\n",
    "print(result)"
   ]
  },
  {
   "cell_type": "code",
   "execution_count": null,
   "id": "4e240a40-32e8-4c93-9403-b50cf7872b27",
   "metadata": {},
   "outputs": [],
   "source": [
    "def ring_around(center, hexgrid30km ,radius):\n",
    "    \"\"\"\n",
    "    Takes a hex object, the corrdinates of the center and the radius and \n",
    "    returns a set with the coordinates of the hexes in the ring around \n",
    "    the center\n",
    "    \"\"\"\n",
    "    if radius < 0:\n",
    "        return set()\n",
    "    if radius == 0:\n",
    "        return set([center])\n",
    "\n",
    "    # stuff to get hex ring. Read up on numpy to simplify\n",
    "    SE = np.array((1, 0, -1))\n",
    "    SW = np.array((0, 1, -1))\n",
    "    W = np.array((-1, 1, 0))\n",
    "    NW = np.array((-1, 0, 1))\n",
    "    NE = np.array((0, -1, 1))\n",
    "    E = np.array((1, -1, 0))\n",
    "    ALL_DIRECTIONS = np.array([NW, NE, E, SE, SW, W, ])\n",
    "    offset_ring = []\n",
    "\n",
    "\n",
    "\n",
    "    # print('center: ', center)\n",
    "    #print('hexgrid30km.x[center]', hexgrid30km.x[center])\n",
    "\n",
    "    col = int(center.split('.')[0])\n",
    "    row = int(center.split('.')[1])\n",
    "\n",
    "    #col = hexgrid30km.x[center]\n",
    "    #row = hexgrid30km.y[center]\n",
    "    q = col\n",
    "    r = row - (col + col%2) / 2\n",
    "    # coordsqr = np.array([q,r])   # convert to pseudo-multidimensional array for get_ring\n",
    "    cube_x = q\n",
    "    cube_z = r\n",
    "    cube_y = -q - r\n",
    "    cube_coords = np.vstack((cube_x, cube_y, cube_z)).T\n",
    "\n",
    "    rad_hex = np.zeros((6 * radius, 3))\n",
    "    #print('rad_hex after initialization: \\n', rad_hex)\n",
    "    count = 0\n",
    "    for i in range(0, 6):\n",
    "        for k in range(0, radius):\n",
    "            rad_hex[count] = ALL_DIRECTIONS[i - 1] * (radius - k) + ALL_DIRECTIONS[i] * (k)\n",
    "            #print ('dir:',i ,'rad_hex:\\n ', rad_hex)\n",
    "            count += 1\n",
    "    #print('rad_hex all directions:\\n', rad_hex)\n",
    "\n",
    "    cube_ring =  np.squeeze(rad_hex) + cube_coords\n",
    "    ax_ring = np.vstack((cube_ring[:, 0], cube_ring[:, 2])).T\n",
    "\n",
    "    for i in range(len(ax_ring)):\n",
    "        hex_tile = ax_ring[i]\n",
    "        col = hex_tile[0]\n",
    "        row = hex_tile[1] + (hex_tile[0] + (hex_tile[0]%2)) / 2\n",
    "        intx = int(col)\n",
    "        inty = int(row)\n",
    "        strx = str(intx)\n",
    "        stry = str(inty)\n",
    "        strCoords = strx + '.' + stry\n",
    "        offset_ring.append(strCoords)\n",
    "    ring_on_map = set()\n",
    "    for i in offset_ring:\n",
    "        if i in hexgrid30km['COORDIDX']:\n",
    "            ring_on_map.add(i)\n",
    "        else:\n",
    "            pass\n",
    "               #print('COORDS not on grid_layer')\n",
    "    # print('end of ring_around')\n",
    "    return ring_on_map"
   ]
  },
  {
   "cell_type": "code",
   "execution_count": null,
   "id": "9309b857-f35a-41ee-8873-32168382890d",
   "metadata": {},
   "outputs": [],
   "source": [
    "def hex_group(center,radius):\n",
    "    \"\"\"\n",
    "    Takes a hex object, the corrdinates of the center and the radius and \n",
    "    returns a set with the coordinates of the hexes in the ring around \n",
    "    the center\n",
    "    \"\"\"\n",
    "    if radius < 0:\n",
    "        return set()\n",
    "    if radius == 0:\n",
    "        return set([center])\n",
    "\n",
    "    # stuff to get hex ring. Read up on numpy to simplify\n",
    "    SE = np.array((1, 0, -1))\n",
    "    SW = np.array((0, 1, -1))\n",
    "    W = np.array((-1, 1, 0))\n",
    "    NW = np.array((-1, 0, 1))\n",
    "    NE = np.array((0, -1, 1))\n",
    "    E = np.array((1, -1, 0))\n",
    "    ALL_DIRECTIONS = np.array([NW, NE, E, SE, SW, W, ])\n",
    "    offset_ring = []\n",
    "\n",
    "\n",
    "\n",
    "    # print('center: ', center)\n",
    "    col = int(center.split('.')[0])\n",
    "    row = int(center.split('.')[1])\n",
    "    q = col\n",
    "    r = row - (col + col%2) / 2\n",
    "    # coordsqr = np.array([q,r])   # convert to pseudo-multidimensional array for get_ring\n",
    "    cube_x = q\n",
    "    cube_z = r\n",
    "    cube_y = -q - r\n",
    "    cube_coords = np.vstack((cube_x, cube_y, cube_z)).T\n",
    "\n",
    "    rad_hex = np.zeros((6 * radius, 3))\n",
    "    #print('rad_hex after initialization: \\n', rad_hex)\n",
    "    count = 0\n",
    "    for i in range(0, 6):\n",
    "        for k in range(0, radius):\n",
    "            rad_hex[count] = ALL_DIRECTIONS[i - 1] * (radius - k) + ALL_DIRECTIONS[i] * (k)\n",
    "            #print ('dir:',i ,'rad_hex:\\n ', rad_hex)\n",
    "            count += 1\n",
    "    #print('rad_hex all directions:\\n', rad_hex)\n",
    "\n",
    "    cube_ring =  np.squeeze(rad_hex) + cube_coords\n",
    "    ax_ring = np.vstack((cube_ring[:, 0], cube_ring[:, 2])).T\n",
    "\n",
    "    for i in range(len(ax_ring)):\n",
    "        hex_tile = ax_ring[i]\n",
    "        col = hex_tile[0]\n",
    "        row = hex_tile[1] + (hex_tile[0] + (hex_tile[0]%2)) / 2\n",
    "        intx = int(col)\n",
    "        inty = int(row)\n",
    "        strx = str(intx)\n",
    "        stry = str(inty)\n",
    "        strCoords = strx + '.' + stry\n",
    "        offset_ring.append(strCoords)\n",
    "    group = set()\n",
    "    for i in offset_ring:\n",
    "        group.add(i)\n",
    "\n",
    "    #return group\n",
    "    return offset_ring\n"
   ]
  },
  {
   "cell_type": "code",
   "execution_count": null,
   "id": "cfa332d1-b978-4b04-bef3-39d6e6c9d7d6",
   "metadata": {},
   "outputs": [],
   "source": [
    "def edge_hexes(center):\n",
    "    \"\"\"\n",
    "    i dont know what i'm doing but it seems to work\n",
    "   \n",
    "    \"\"\"\n",
    "    \n",
    "    offset_ring = []\n",
    "\n",
    "    top_left = np.array((-1, -1, 2))\n",
    "    left =  np.array((- 2, 1, 1))\n",
    "    bottom_left = np.array((-1, 2, -1))\n",
    "    bottom_right = np.array((1, 1, -2))\n",
    "    right = np.array((2, -1 ,-1))\n",
    "    top_right = np.array((1, -2, 1))\n",
    "    EDGE_HEXES = np.array([top_left, left, bottom_left, bottom_right, right, top_right])\n",
    "\n",
    "\n",
    "    col = int(center.split('.')[0])\n",
    "    row = int(center.split('.')[1])\n",
    "    q = col\n",
    "    r = row - (col + col%2) / 2\n",
    "    # coordsqr = np.array([q,r])   # convert to pseudo-multidimensional array for get_ring\n",
    "    cube_x = q\n",
    "    cube_z = r\n",
    "    cube_y = -q - r\n",
    "    cube_coords = np.vstack((cube_x, cube_y, cube_z)).T\n",
    "\n",
    "    cube_ring = EDGE_HEXES + cube_coords\n",
    "\n",
    "    ax_ring = np.vstack((cube_ring[:, 0], cube_ring[:, 2])).T\n",
    "\n",
    "    for i in range(len(ax_ring)):\n",
    "        hex_tile = ax_ring[i]\n",
    "        col = hex_tile[0]\n",
    "        row = hex_tile[1] + (hex_tile[0] + (hex_tile[0]%2)) / 2\n",
    "        intx = int(col)\n",
    "        inty = int(row)\n",
    "        strx = str(intx)\n",
    "        stry = str(inty)\n",
    "        strCoords = strx + '.' + stry\n",
    "        offset_ring.append(strCoords)\n",
    "    edges = set()\n",
    "    for i in offset_ring:\n",
    "        edges.add(i)\n",
    "\n",
    "    # return edges\n",
    "    return offset_ring"
   ]
  },
  {
   "cell_type": "code",
   "execution_count": null,
   "id": "003a0871-1aa7-4412-a86a-c4112bf46c7e",
   "metadata": {},
   "outputs": [],
   "source": [
    "def propagate(hex1_COORDS,hexgrid30km):\n",
    "    \n",
    "\n",
    "    radius = 0\n",
    "    while radius < 40: # and round(hexgrid30km.loc[hexgrid30km['COORDIDX'] == str(hex1_COORDS), 'Infra'].item() * (1/2)** radius): # 40 is widest\n",
    "    # while hex(radius) < max(height, length) and round(infra(COORD1) * (1/2)**i )> 0 \n",
    "\n",
    "    # last_ring = ring_around(hex1coord, hexgrid30km, radius-1)\n",
    "        this_ring = ring_around(hex1_COORDS, hexgrid30km, radius)#.union(hexes_on_rid)\n",
    "        # print('this_ring: ', this_ring)\n",
    "        next_ring = ring_around(hex1_COORDS, hexgrid30km, radius+1)#.union(hexes_on_rid)\n",
    "        # print('next_ring: ',next_ring)\n",
    "        for hex in this_ring:\n",
    "            three_adjacent_hexes = set.union(ring_around(hex,hexgrid30km,1),next_ring)\n",
    "            for adjacent_hex in three_adjacent_hexes:\n",
    "                if float(hexgrid30km.loc[hex,'MeanElev']) >  float(hexgrid30km.loc[adjacent_hex,'MeanElev']):\n",
    "                    diff = float(hexgrid30km.loc[hex,'MeanElev']) - float(hexgrid30km.loc[adjacent_hex,'MeanElev'])\n",
    "                else:\n",
    "                    diff = float(hexgrid30km.loc[adjacent_hex,'MeanElev']) - float(hexgrid30km.loc[hex,'MeanElev'])\n",
    "\n",
    "                exponent = math.ceil(diff/150) # meters. If < 150 m result in 1, so that 1/2**1 = 1/2\n",
    "                calculated_Infra = round(hexgrid30km.loc[hex,'update'] /(2**exponent))  #hexgrid30km.loc[hex,'update']\n",
    "                # print('calculated_Infra',calculated_Infra)\n",
    "                # print(' = round(hex.infra[hex1_COORDS]',hexgrid30km.loc[hex,'update'])\n",
    "                # print(' /(2**exponent))',exponent)\n",
    "                # print('hexgrid30km.loc[adjacent_hex,\"update\"] before update',hexgrid30km.loc[adjacent_hex,'update'],'type: ',type(hexgrid30km.loc[adjacent_hex,'update']))\n",
    "                if hexgrid30km.loc[adjacent_hex,'update'] == 0 or hexgrid30km.loc[adjacent_hex,'update'] <= calculated_Infra:\n",
    "                    hexgrid30km.loc[adjacent_hex,'update'] = calculated_Infra\n",
    "                    # print('hexgrid30km.loc[adjacent_hex,\"update\"] after update',hexgrid30km.loc[adjacent_hex,'update'])\n",
    "                else:\n",
    "                    # print('no update of',adjacent_hex)\n",
    "                    pass\n",
    "\n",
    "        radius +=1 \n",
    "    ## es fehlt hexgrid30km infra += hexgrid30km update\n",
    "    for key6 in hexgrid30km.index:\n",
    "         # print('key6', key6)\n",
    "         hexgrid30km.loc[key6,'Infra'] += hexgrid30km.loc[key6,'update'] \n",
    "         # print('hexgrid30km.infra[key6]',hexgrid30km.infra[key6],' hexgrid30kmJSON.update[key6]',hexgrid30kmJSON.update[key6])\n",
    "\n",
    "    return hexgrid30km "
   ]
  },
  {
   "cell_type": "code",
   "execution_count": null,
   "id": "61b3967d-555f-475a-a4a0-68a9c31c67a7",
   "metadata": {},
   "outputs": [],
   "source": [
    "hexgrid30km['Infra'] = [0] * hexgrid30km.shape[0]\n",
    "hexgrid30km['update'] = [0] * hexgrid30km.shape[0]\n",
    "hexgrid30km = add_settlement_to_hex(hexgrid30km,settls) # initialize"
   ]
  },
  {
   "cell_type": "code",
   "execution_count": null,
   "id": "0773c109-b826-475e-b138-7558c17419c9",
   "metadata": {},
   "outputs": [],
   "source": [
    "hexgrid30km['OriginalInfra'].unique()"
   ]
  },
  {
   "cell_type": "code",
   "execution_count": null,
   "id": "326abaf9-a867-4e89-bca6-fbc0596f8fff",
   "metadata": {},
   "outputs": [],
   "source": [
    "hexgrid30km['update'].unique()"
   ]
  },
  {
   "cell_type": "code",
   "execution_count": null,
   "id": "efcd9e25-88c6-4710-916f-216e25834acb",
   "metadata": {},
   "outputs": [],
   "source": [
    "hexgrid30km['Infra'].unique()"
   ]
  },
  {
   "cell_type": "code",
   "execution_count": null,
   "id": "4eae3368-abdb-43bd-84a9-25e087058555",
   "metadata": {},
   "outputs": [],
   "source": [
    "hexgrid30km.plot(column = 'Infra')"
   ]
  },
  {
   "cell_type": "code",
   "execution_count": null,
   "id": "d592d51c-6bd4-49a8-8697-d4cfc232a550",
   "metadata": {},
   "outputs": [],
   "source": [
    "# for index2, feature2 in  hexgrid30km.iterrows():\n",
    "#     hexgrid30km['update'] = [0] * hexgrid30km.shape[0]\n",
    "#     hexgrid30km.loc[index2,'update'] = feature2['Infra'] \n",
    "filt2 = hexgrid30km['settl'].notnull()\n",
    "for hex in hexgrid30km.loc[filt2,'COORDIDX']:\n",
    "    print('hex', hex, 'type:', type(hex))\n",
    "    hexgrid30km['update'] = [0] * hexgrid30km.shape[0]\n",
    "    hexgrid30km.loc[hex,'update'] = round(hexgrid30km.loc[hex,'OriginalInfra'])\n",
    "    hexgrid30km = propagate(hex,hexgrid30km)\n",
    "    #breakpoint()abs\n",
    "    pass"
   ]
  },
  {
   "cell_type": "code",
   "execution_count": null,
   "id": "cc3b826f-703c-4366-b1a4-fd6c8c1d0d36",
   "metadata": {},
   "outputs": [],
   "source": [
    "hexgrid30km['Hex_Group'] = [np.nan] * hexgrid30km.shape[0]\n",
    "hexgrid30km['Hex_Group'] = hexgrid30km['Hex_Group'].apply(lambda x: {})"
   ]
  },
  {
   "cell_type": "code",
   "execution_count": null,
   "id": "974236c0-7f32-4446-b575-21d982f41de6",
   "metadata": {},
   "outputs": [],
   "source": [
    "hexgrid30km['Edge_Hexes'] = [np.nan] * hexgrid30km.shape[0]\n",
    "hexgrid30km['Edge_Hexes'] = hexgrid30km['Hex_Group'].apply(lambda x: [])"
   ]
  },
  {
   "cell_type": "code",
   "execution_count": null,
   "id": "e4920489-262b-4eaf-a437-6453b54a7476",
   "metadata": {},
   "outputs": [],
   "source": [
    "def small_hexes_in_big_hexes(hexgrid30km):\n",
    "    # make a temporary centroid dict for hex groups and edge hexes later\n",
    "    centroid = {}\n",
    "    for key7 in hexgrid30km.index:\n",
    "        centroid[key7] = ''\n",
    "        \n",
    "    y30 = 0 + 392\n",
    "    x30 = 0 + 724\n",
    "    x10 = 1\n",
    "    y10 = 2\n",
    "    while y30 < (28 + 392): # max 419\n",
    "        while x30 < (39 + 724): # max 762\n",
    "            #print(str(x30)+'.'+ str(y30))\n",
    "            #print(hexgrid30km.centroid[str(x30)+'.'+ str(y30)])\n",
    "            # hexgrid30km[str(x30)+'.'+ str(y30), 'centroid'] = str(x10)+'.'+ str(y10)\n",
    "            centroid[str(x30)+'.'+ str(y30)] = str(x10)+'.'+ str(y10)# temp var centroid better than col\n",
    "            #print('hexgrid30km.centroid[',str(x30)+'.'+ str(y30),']', hexgrid30km.centroid[str(x30)+'.'+ str(y30)])\n",
    "            #hexgrid30km.Hex_Group[str(x30)+'.'+ str(y30)].append(ring_around(hexgrid30km.centroid[str(x30)+'.'+ str(y30)],hexgrid30km,1))\n",
    "            #hexgrid30km.Hex_Group = ring_around(hexgrid30km.centroid[str(x30)+'.'+ str(y30)],hexgrid30km,1)\n",
    "            x30 += 2\n",
    "            x10 += 6\n",
    "        \n",
    "        y30 += 1\n",
    "        y10 += 3\n",
    "        #reset x\n",
    "        x30 = 0 + 724\n",
    "        x10 = 1\n",
    "\n",
    "        # print('new y loop even y: ', y30)\n",
    "\n",
    "    # reset: \n",
    "    y30 = 0 + 392\n",
    "    x30 = 1 + 724\n",
    "    x10 = 4\n",
    "    y10 = 0\n",
    "\n",
    "    while y30 < (28 +  392):\n",
    "        while x30 < (39 + 724):\n",
    "            #print(hexgrid30km.centroid[str(x30)+'.'+ str(y30)])\n",
    "            # hexgrid30km[str(x30)+'.'+ str(y30),'centroid'] = str(x10)+'.'+ str(y10)\n",
    "            centroid[str(x30)+'.'+ str(y30)] = str(x10)+'.'+ str(y10) # temp var centroid better than col\n",
    "            #hexgrid30km.Hex_Group[str(x30)+'.'+ str(y30)].append(ring_around(hexgrid30km.centroid[str(x30)+'.'+ str(y30)],hexgrid30km,1))\n",
    "            x30 += 2\n",
    "            x10 += 6\n",
    "\n",
    "        y30 += 1\n",
    "        y10 += 3\n",
    "\n",
    "        #reset x\n",
    "        x30 = 1 + 724\n",
    "        x10 = 4\n",
    "        #print('new y loop odd y: ', y30)\n",
    "\n",
    "\n",
    "    # delete empty lists\n",
    "    temp = {k: v for k, v in centroid.items() if v}\n",
    "    centroid = temp\n",
    "    # breakpoint()\n",
    "    # find hex groups for centoids\n",
    "    #for key10, value10 in hexgrid30km['centroid'].items():\n",
    "    for key10, value10 in centroid.items():\n",
    "        if key10 in hexgrid30km.index:\n",
    "        # breakpoint()\n",
    "        # temp = hex_group(value10,1)\n",
    "        # list_of_strings = [str(x) for x in temp]\n",
    "        \n",
    "            list = hex_group(value10,1) # list of ring around centroid.\n",
    "            list.append(value10) # append the centroid to the hex group\n",
    "            dict = {'HexA' : list[0], 'HexB': list[1], 'HexC':list[2],'HexD':list[3],'HexE':list[4],'HexF':list[5], 'HexG':list[6]}\n",
    "            dictJSON = json.dumps(dict)\n",
    "            hexgrid30km.at[key10, 'Hex_Group'] = dictJSON\n",
    "    \n",
    "    ## delete empty list\n",
    "    # temp1 = {k: v for k, v in hexgrid30km.Hex_Group.items() if v}\n",
    "    # hexgrid30km.Hex_Group = temp1\n",
    "\n",
    "    # append centroid to hex group\n",
    "    #for key11, value11 in hexgrid30km['centroid'].items():\n",
    "    # for key11, value11 in centroid.items():\n",
    "    #     if key11 in hexgrid30km.index:\n",
    "    #         hexgrid30km[key11,'Hex_Group'].append(value11)\n",
    "\n",
    "    # find edge hexes\n",
    "    for key12, value12 in centroid.items():\n",
    "        hexgrid30km.at[key12, 'Edge_Hexes'] = edge_hexes(value12)\n",
    "\n",
    "    # later access with\n",
    "    \"\"\"\n",
    "    filt = hexgrid30km['Edge_Hexes'].astype(bool)# check if list is empty\n",
    "    \"\"\"\n",
    "    # list comprehension returns a list and not a boolen mask\n",
    "    # [x for x in hexgrid30km['Edge_Hexes'] if x]\n",
    "    \"\"\"\n",
    "    for i in hexgrid30km.loc[filt,'Edge_Hexes']:\n",
    "    \"\"\"\n",
    "\n",
    "    \n",
    "    ## delete empty lists\n",
    "    # temp2 = {k: v for k, v in hexgrid30km.Edge_Hexes.items() if v}\n",
    "    # hexgrid30km.Edge_Hexes = temp2\n",
    "\n",
    "\n",
    "    # for key13 in hexgrid30km['Hex_Group'].keys():\n",
    "        \n",
    "    #     hexgrid30km.at[key13,'Hex_Group'] = {'HexA' : hexgrid30km.Hex_Group[key13][0], 'HexB': hexgrid30km.Hex_Group[key13][1], 'HexC':hexgrid30km.Hex_Group[key13][2],'HexD':hexgrid30km.Hex_Group[key13][3],'HexE':hexgrid30km.Hex_Group[key13][4],'HexF':hexgrid30km.Hex_Group[key13][5], 'HexG':hexgrid30km.Hex_Group[key13][6]}\n",
    "              \n",
    "     \n",
    "\n",
    "\n",
    "    return hexgrid30km\n"
   ]
  },
  {
   "cell_type": "code",
   "execution_count": null,
   "id": "74c0ebaf-f2c4-430d-9e3d-9db98ba909fe",
   "metadata": {},
   "outputs": [],
   "source": [
    "hexgrid30km = small_hexes_in_big_hexes(hexgrid30km)"
   ]
  },
  {
   "cell_type": "code",
   "execution_count": null,
   "id": "f4917b41-c3c6-4900-9592-7c5c956aca7f",
   "metadata": {},
   "outputs": [],
   "source": [
    "hexgrid30km.to_file(\"/Users/aljoschabeyer/Library/Mobile Documents/iCloud~md~obsidian/Documents/RPG/000 media/Maps/QGIS/30KMHungaryClipCopy4.shp\")"
   ]
  },
  {
   "cell_type": "markdown",
   "id": "da9fefa2-3183-4582-bfdf-6451b440ba4f",
   "metadata": {},
   "source": [
    "## Random bits and ends:"
   ]
  },
  {
   "cell_type": "code",
   "execution_count": null,
   "id": "93db2fe1-f747-4eee-8fb9-2edf81b4d902",
   "metadata": {},
   "outputs": [],
   "source": [
    "%debug"
   ]
  },
  {
   "cell_type": "code",
   "execution_count": null,
   "id": "faa4757a-1345-4aeb-9fdb-bc772094ce2a",
   "metadata": {},
   "outputs": [],
   "source": [
    "hexgrid30km['update'].unique()"
   ]
  },
  {
   "cell_type": "code",
   "execution_count": null,
   "id": "5beb5447-e8ac-4654-88c2-0cf6b09c8a52",
   "metadata": {},
   "outputs": [],
   "source": [
    "hexgrid30km.plot(column = 'Infra')"
   ]
  },
  {
   "cell_type": "code",
   "execution_count": null,
   "id": "56010732-84b0-4070-953d-1de0409f51fa",
   "metadata": {},
   "outputs": [],
   "source": [
    "hexgrid30km.loc[filt2,'COORDIDX']"
   ]
  },
  {
   "cell_type": "code",
   "execution_count": null,
   "id": "896ec6a0-62f5-4670-840d-23799f66e1eb",
   "metadata": {},
   "outputs": [],
   "source": [
    "hexgrid30km.loc[hexgrid30km['COORDIDX'] == hex1_COORDS, 'Infra']"
   ]
  },
  {
   "cell_type": "code",
   "execution_count": null,
   "id": "a4daaffc-98ec-4b3d-8584-17858e4ecff9",
   "metadata": {},
   "outputs": [],
   "source": [
    "test = hexgrid30km['COORDIDX'] == hex1_COORDS"
   ]
  },
  {
   "cell_type": "code",
   "execution_count": null,
   "id": "d7b0cf7b-a24f-4bef-ac80-2f4a7d5b10e0",
   "metadata": {},
   "outputs": [],
   "source": [
    "hexgrid30km.loc[hexgrid30km['COORDIDX'] == str(hex1_COORDS), 'Infra'].item()"
   ]
  },
  {
   "cell_type": "code",
   "execution_count": null,
   "id": "691a7f7b-6de8-4111-aff0-5f8f21f8c192",
   "metadata": {},
   "outputs": [],
   "source": [
    "#hexgrid30km['update']"
   ]
  },
  {
   "cell_type": "code",
   "execution_count": null,
   "id": "9923394d-fd20-439b-8a2d-03b31ff0ec5d",
   "metadata": {},
   "outputs": [],
   "source": [
    "test = gpd.sjoin(hexgrid30km, settls, how='left', op = 'contains')"
   ]
  },
  {
   "cell_type": "code",
   "execution_count": null,
   "id": "d8535353-64f6-4176-9524-fef9e74cd717",
   "metadata": {},
   "outputs": [],
   "source": [
    "def to_null(x):\n",
    "    x = 0\n",
    "    return x\n",
    "hexgrid30km['Infra'] = hexgrid30km['Infra'].apply(to_null)"
   ]
  },
  {
   "cell_type": "code",
   "execution_count": null,
   "id": "1aa19be0-5a41-4a70-bd1b-bdedf62d7f10",
   "metadata": {},
   "outputs": [],
   "source": [
    "# code does not work!\n",
    "def write_to_grid_layer(hexgrid30kmJSON, hexgrid30km):\n",
    "     with edit(grid_layer):\n",
    "          for feat in grid_layer.getFeatures():\n",
    "               #print('write to feat:', feat.id(), 'Infra of grid feat before writing is: ', feat[12], 'COORDIDX: ', feat[13])\n",
    "               feat[12] = hexgrid30km.infra[feat[13]]\n",
    "               #print('Infra of grid feat after writing is: ', feat[12])\n",
    "               grid_layer.updateFeature(feat)\n",
    "     return grid_layer"
   ]
  }
 ],
 "metadata": {
  "kernelspec": {
   "display_name": "Python 3 (ipykernel)",
   "language": "python",
   "name": "python3"
  },
  "language_info": {
   "codemirror_mode": {
    "name": "ipython",
    "version": 3
   },
   "file_extension": ".py",
   "mimetype": "text/x-python",
   "name": "python",
   "nbconvert_exporter": "python",
   "pygments_lexer": "ipython3",
   "version": "3.11.5"
  }
 },
 "nbformat": 4,
 "nbformat_minor": 5
}
